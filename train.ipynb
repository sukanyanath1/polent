{
 "cells": [
  {
   "cell_type": "code",
   "execution_count": 27,
   "metadata": {},
   "outputs": [],
   "source": [
    "import pandas as pd\n",
    "from transformers import AutoModelForSequenceClassification, AutoTokenizer, TrainingArguments, Trainer, DataCollatorWithPadding,EarlyStoppingCallback\n",
    "from datasets import DatasetDict, Dataset\n",
    "import torch\n",
    "import numpy as np\n",
    "import evaluate\n",
    "import logging\n",
    "from sklearn.model_selection import train_test_split\n",
    "from sklearn.metrics import confusion_matrix as cm\n",
    "import time\n",
    "import re"
   ]
  },
  {
   "cell_type": "code",
   "execution_count": 3,
   "metadata": {},
   "outputs": [],
   "source": [
    "model_name = 'bert-base-uncased'\n",
    "# FacebookAI/roberta-base\n",
    "\n",
    "\n",
    "# microsoft/deberta-v3-large"
   ]
  },
  {
   "cell_type": "code",
   "execution_count": 4,
   "metadata": {},
   "outputs": [
    {
     "data": {
      "text/plain": [
       "'bert-base-uncased'"
      ]
     },
     "execution_count": 4,
     "metadata": {},
     "output_type": "execute_result"
    }
   ],
   "source": [
    "model_name_saving = re.sub(\"/\",\"_\", model_name)\n",
    "model_name_saving"
   ]
  },
  {
   "cell_type": "code",
   "execution_count": 5,
   "metadata": {},
   "outputs": [],
   "source": [
    "formatter = logging.Formatter('%(asctime)s %(lineno)s %(levelname)s %(message)s')\n",
    "def setup_logger(name, log_file= model_name_saving +\".log\", level=logging.INFO):\n",
    "    handler = logging.FileHandler(log_file)\n",
    "    handler.setFormatter(formatter)\n",
    "    logger = logging.getLogger(name)\n",
    "    logger.setLevel(level)\n",
    "    logger.addHandler(handler)\n",
    "    return logger\n",
    "logger = setup_logger(\"logger\")"
   ]
  },
  {
   "cell_type": "code",
   "execution_count": 6,
   "metadata": {},
   "outputs": [],
   "source": [
    "logger.info(f'Is Cuda available? {torch.cuda.is_available()}')"
   ]
  },
  {
   "cell_type": "code",
   "execution_count": 7,
   "metadata": {},
   "outputs": [],
   "source": [
    "df = pd.read_csv(\"data\\TrainingData_ParkStyle_2-0_forSukanya.csv\")\n",
    "logger.info(f'Original Data Size {len(df)}')\n",
    "df[\"head_tail\"] = df.apply(lambda x: str(x[\"head\"]) + \" \" + str(x[\"tail\"]), axis = 1)\n",
    "df.dropna(subset= [\"Park\",\"sent\",\"head_tail\"],inplace=True)\n",
    "logger.info(f'Dataset Size after dropping columns with null values {len(df)}')\n",
    "df[\"Park\"] = df[\"Park\"].astype(int)"
   ]
  },
  {
   "cell_type": "code",
   "execution_count": 8,
   "metadata": {},
   "outputs": [],
   "source": [
    "df_train, temp_df = train_test_split(df, test_size=0.30, stratify=df[\"Park\"], random_state=42)\n",
    "# Trying to ensure that all splits have all the classes\n",
    "df_valid, df_test = train_test_split(temp_df, test_size=0.50, stratify=temp_df[\"Park\"], random_state=42)\n",
    "\n",
    "\n",
    "\n",
    "data = DatasetDict({\n",
    "    \"train\": Dataset.from_pandas(df_train),\n",
    "    \"valid\": Dataset.from_pandas(df_valid),\n",
    "    \"test\": Dataset.from_pandas(df_test)\n",
    "})\n"
   ]
  },
  {
   "cell_type": "code",
   "execution_count": 9,
   "metadata": {},
   "outputs": [],
   "source": [
    "logger.info(f'Train data size {len(data[\"train\"])}')\n",
    "logger.info(f'Validation data size {len(data[\"valid\"])}')\n",
    "logger.info(f'Test data size {len(data[\"test\"])}')"
   ]
  },
  {
   "cell_type": "code",
   "execution_count": 10,
   "metadata": {},
   "outputs": [],
   "source": [
    "logger.info(f'Training Class Distribution{dict(df_train.Park.value_counts()/len(df_train))}')\n",
    "logger.info(f'Validation Class Distribution{dict(df_valid.Park.value_counts()/len(df_valid))}')\n",
    "logger.info(f'Test Class Distribution{dict(df_test.Park.value_counts()/len(df_test))}')"
   ]
  },
  {
   "cell_type": "code",
   "execution_count": 11,
   "metadata": {},
   "outputs": [
    {
     "name": "stderr",
     "output_type": "stream",
     "text": [
      "Some weights of BertForSequenceClassification were not initialized from the model checkpoint at bert-base-uncased and are newly initialized: ['classifier.bias', 'classifier.weight']\n",
      "You should probably TRAIN this model on a down-stream task to be able to use it for predictions and inference.\n"
     ]
    }
   ],
   "source": [
    "tokenizer = AutoTokenizer.from_pretrained(model_name)\n",
    "model = AutoModelForSequenceClassification.from_pretrained(model_name, num_labels=df['Park'].nunique())"
   ]
  },
  {
   "cell_type": "code",
   "execution_count": 12,
   "metadata": {},
   "outputs": [
    {
     "name": "stderr",
     "output_type": "stream",
     "text": [
      "Map: 100%|██████████| 4520/4520 [00:00<00:00, 12726.76 examples/s]\n",
      "Map: 100%|██████████| 969/969 [00:00<00:00, 12419.99 examples/s]\n",
      "Map: 100%|██████████| 969/969 [00:00<00:00, 13360.77 examples/s]\n"
     ]
    }
   ],
   "source": [
    "def tokenize_function(batch,max_length ):#= tokenizer\n",
    "    tokenized_batch = tokenizer(text = batch[\"sent\"], text_pair= batch[\"head_tail\"], padding=True, max_length=max_length, truncation=True, return_tensors=\"pt\")\n",
    "    tokenized_batch[\"labels\"] = batch[\"Park\"] #label\n",
    "    return tokenized_batch\n",
    "\n",
    "# Tokenize dataset\n",
    "tokenized_datasets = data.map(tokenize_function, batched=True, fn_kwargs={\"max_length\":tokenizer.model_max_length})\n",
    "# Remove unwanted columns\n",
    "tokenized_datasets = tokenized_datasets.remove_columns([\"sentID\", \"sent\", \"head\", \"tail\", \"Park\", \"head_tail\", \"__index_level_0__\"])\n",
    "logger.info(f'Tokenization completed')"
   ]
  },
  {
   "cell_type": "code",
   "execution_count": 13,
   "metadata": {},
   "outputs": [],
   "source": [
    "# Define training arguments\n",
    "training_args = TrainingArguments(\n",
    "    output_dir=\"./results/\"+model_name_saving,\n",
    "    eval_strategy=\"epoch\",\n",
    "    save_strategy=\"epoch\",\n",
    "    per_device_train_batch_size=16,\n",
    "    per_device_eval_batch_size=16,\n",
    "    num_train_epochs=10,\n",
    "    weight_decay=0.01,\n",
    "    logging_dir=\"./logs\",\n",
    "    logging_steps=100,\n",
    "    save_total_limit=2,\n",
    "    load_best_model_at_end=True,\n",
    "    metric_for_best_model=\"accuracy\",\n",
    "    push_to_hub=\"False\",\n",
    "    greater_is_better=False,  # Since lower loss is better\n",
    "    report_to=\"none\"\n",
    ")\n"
   ]
  },
  {
   "cell_type": "code",
   "execution_count": 14,
   "metadata": {},
   "outputs": [],
   "source": [
    "accuracy = evaluate.load(\"accuracy\")\n",
    "# Define compute metrics funct\n",
    "\n",
    "def compute_metrics(eval_pred):\n",
    "    logits, labels = eval_pred\n",
    "    predictions = np.argmax(logits, axis=1)\n",
    "    labels = labels.squeeze()\n",
    "    return accuracy.compute(predictions=predictions, references=labels)\n"
   ]
  },
  {
   "cell_type": "code",
   "execution_count": 15,
   "metadata": {},
   "outputs": [],
   "source": [
    "#4. Define data_collators\n",
    "data_collator = DataCollatorWithPadding(tokenizer=tokenizer, padding = True) #pads to the max sequence length in a batch"
   ]
  },
  {
   "cell_type": "code",
   "execution_count": 16,
   "metadata": {},
   "outputs": [
    {
     "name": "stderr",
     "output_type": "stream",
     "text": [
      "C:\\Users\\sukan\\AppData\\Local\\Temp\\ipykernel_34904\\3907965586.py:2: FutureWarning: `tokenizer` is deprecated and will be removed in version 5.0.0 for `Trainer.__init__`. Use `processing_class` instead.\n",
      "  trainer = Trainer(\n"
     ]
    }
   ],
   "source": [
    "# Initialize Trainer\n",
    "trainer = Trainer(\n",
    "    model=model,\n",
    "    args=training_args,\n",
    "    train_dataset=tokenized_datasets[\"train\"],\n",
    "    eval_dataset=tokenized_datasets[\"valid\"],\n",
    "    tokenizer=tokenizer,\n",
    "    compute_metrics=compute_metrics,\n",
    "    data_collator = data_collator,\n",
    "    callbacks=[EarlyStoppingCallback(early_stopping_patience=2)] \n",
    ")\n",
    "\n"
   ]
  },
  {
   "cell_type": "code",
   "execution_count": 17,
   "metadata": {},
   "outputs": [
    {
     "data": {
      "text/html": [
       "\n",
       "    <div>\n",
       "      \n",
       "      <progress value='849' max='2830' style='width:300px; height:20px; vertical-align: middle;'></progress>\n",
       "      [ 849/2830 05:29 < 12:51, 2.57 it/s, Epoch 3/10]\n",
       "    </div>\n",
       "    <table border=\"1\" class=\"dataframe\">\n",
       "  <thead>\n",
       " <tr style=\"text-align: left;\">\n",
       "      <th>Epoch</th>\n",
       "      <th>Training Loss</th>\n",
       "      <th>Validation Loss</th>\n",
       "      <th>Accuracy</th>\n",
       "    </tr>\n",
       "  </thead>\n",
       "  <tbody>\n",
       "    <tr>\n",
       "      <td>1</td>\n",
       "      <td>1.152400</td>\n",
       "      <td>1.002846</td>\n",
       "      <td>0.592363</td>\n",
       "    </tr>\n",
       "    <tr>\n",
       "      <td>2</td>\n",
       "      <td>0.860900</td>\n",
       "      <td>0.925594</td>\n",
       "      <td>0.631579</td>\n",
       "    </tr>\n",
       "    <tr>\n",
       "      <td>3</td>\n",
       "      <td>0.642800</td>\n",
       "      <td>0.946054</td>\n",
       "      <td>0.616099</td>\n",
       "    </tr>\n",
       "  </tbody>\n",
       "</table><p>"
      ],
      "text/plain": [
       "<IPython.core.display.HTML object>"
      ]
     },
     "metadata": {},
     "output_type": "display_data"
    }
   ],
   "source": [
    "logger.info(f'Training started')\n",
    "start = time.time()\n",
    "# Train model\n",
    "trainer.train()\n",
    "logger.info(f\"Execution Time: {(time.time()-start):.2f} seconds\")"
   ]
  },
  {
   "cell_type": "code",
   "execution_count": 18,
   "metadata": {},
   "outputs": [
    {
     "data": {
      "text/html": [],
      "text/plain": [
       "<IPython.core.display.HTML object>"
      ]
     },
     "metadata": {},
     "output_type": "display_data"
    }
   ],
   "source": [
    "# Evaluate model\n",
    "valid_results = trainer.evaluate(tokenized_datasets[\"valid\"])\n",
    "logger.info(f\"Validation Accuracy: {valid_results['eval_accuracy']:.4f}\")\n",
    "test_results = trainer.evaluate(tokenized_datasets[\"test\"])\n",
    "logger.info(f\"Test Accuracy: {test_results['eval_accuracy']:.4f}\")"
   ]
  },
  {
   "cell_type": "code",
   "execution_count": null,
   "metadata": {},
   "outputs": [
    {
     "data": {
      "text/html": [],
      "text/plain": [
       "<IPython.core.display.HTML object>"
      ]
     },
     "metadata": {},
     "output_type": "display_data"
    },
    {
     "data": {
      "text/plain": [
       "array([[316,  99,   0,  19,   0],\n",
       "       [ 58, 168,   0,  15,   0],\n",
       "       [ 28, 108,   0,   4,   0],\n",
       "       [  7,  16,   0,  94,   1],\n",
       "       [  3,   9,   0,  24,   0]])"
      ]
     },
     "execution_count": 28,
     "metadata": {},
     "output_type": "execute_result"
    }
   ],
   "source": [
    "predictions = trainer.predict(test_dataset=tokenized_datasets[\"test\"])\n",
    "\n",
    "# Extract the predicted labels and the true labels\n",
    "predicted_labels = predictions.predictions.argmax(axis=-1)\n",
    "true_labels = predictions.label_ids\n"
   ]
  },
  {
   "cell_type": "code",
   "execution_count": 31,
   "metadata": {},
   "outputs": [
    {
     "data": {
      "image/png": "[encoded data removed]",
      "text/plain": [
       "<Figure size 800x600 with 2 Axes>"
      ]
     },
     "metadata": {},
     "output_type": "display_data"
    }
   ],
   "source": [
    "import matplotlib.pyplot as plt\n",
    "import seaborn as sns\n",
    "from sklearn.metrics import confusion_matrix\n",
    "\n",
    "cm = cm(y_pred=predicted_labels, y_true=true_labels)\n",
    "# Plot confusion matrix\n",
    "plt.figure(figsize=(8, 6))\n",
    "sns.heatmap(cm, annot=True, fmt=\"d\", cmap=\"Blues\", xticklabels=set(true_labels), yticklabels=set(true_labels))\n",
    "plt.xlabel(\"Predicted Labels\")\n",
    "plt.ylabel(\"True Labels\")\n",
    "plt.title(\"Confusion Matrix\")\n",
    "plt.show()\n"
   ]
  },
  {
   "cell_type": "code",
   "execution_count": 32,
   "metadata": {},
   "outputs": [
    {
     "data": {
      "image/png": "[encoded data removed]",
      "text/plain": [
       "<Figure size 800x800 with 1 Axes>"
      ]
     },
     "metadata": {},
     "output_type": "display_data"
    }
   ],
   "source": [
    "# Compute class distribution\n",
    "unique_labels, label_counts = np.unique(true_labels, return_counts=True)\n",
    "\n",
    "# Plot pie chart\n",
    "plt.figure(figsize=(8, 8))\n",
    "plt.pie(label_counts, labels=unique_labels, autopct='%1.1f%%', startangle=140, colors=plt.cm.Paired.colors)\n",
    "plt.title(\"Class Distribution in Test Set\")\n",
    "plt.show()\n"
   ]
  },
  {
   "cell_type": "code",
   "execution_count": 19,
   "metadata": {},
   "outputs": [
    {
     "data": {
      "text/plain": [
       "('models/bert-base-uncased\\\\tokenizer_config.json',\n",
       " 'models/bert-base-uncased\\\\special_tokens_map.json',\n",
       " 'models/bert-base-uncased\\\\vocab.txt',\n",
       " 'models/bert-base-uncased\\\\added_tokens.json',\n",
       " 'models/bert-base-uncased\\\\tokenizer.json')"
      ]
     },
     "execution_count": 19,
     "metadata": {},
     "output_type": "execute_result"
    }
   ],
   "source": [
    "\n",
    "# Save model and tokenizer\n",
    "trainer.save_model(\"models/\" + model_name_saving)\n",
    "tokenizer.save_pretrained(\"models/\" + model_name_saving)"
   ]
  },
  {
   "cell_type": "code",
   "execution_count": 22,
   "metadata": {},
   "outputs": [],
   "source": [
    "logger.info(f\"Training metrics \")\n",
    "\n",
    "for step in enumerate(trainer.state.log_history):\n",
    "    logger.info(f\"{step}\")\n"
   ]
  },
  {
   "cell_type": "code",
   "execution_count": 24,
   "metadata": {},
   "outputs": [
    {
     "name": "stdout",
     "output_type": "stream",
     "text": [
      "(0, {'loss': 1.3258, 'grad_norm': 9.041976928710938, 'learning_rate': 4.823321554770318e-05, 'epoch': 0.35335689045936397, 'step': 100})\n",
      "(1, {'loss': 1.1524, 'grad_norm': 9.06457805633545, 'learning_rate': 4.646643109540637e-05, 'epoch': 0.7067137809187279, 'step': 200})\n",
      "(2, {'eval_loss': 1.0028458833694458, 'eval_accuracy': 0.5923632610939112, 'eval_runtime': 8.1056, 'eval_samples_per_second': 119.547, 'eval_steps_per_second': 7.526, 'epoch': 1.0, 'step': 283})\n",
      "(3, {'loss': 1.0215, 'grad_norm': 10.007211685180664, 'learning_rate': 4.469964664310954e-05, 'epoch': 1.0600706713780919, 'step': 300})\n",
      "(4, {'loss': 0.8585, 'grad_norm': 7.505438804626465, 'learning_rate': 4.2932862190812724e-05, 'epoch': 1.4134275618374559, 'step': 400})\n",
      "(5, {'loss': 0.8609, 'grad_norm': 10.362479209899902, 'learning_rate': 4.11660777385159e-05, 'epoch': 1.76678445229682, 'step': 500})\n",
      "(6, {'eval_loss': 0.925593912601471, 'eval_accuracy': 0.631578947368421, 'eval_runtime': 6.9776, 'eval_samples_per_second': 138.872, 'eval_steps_per_second': 8.742, 'epoch': 2.0, 'step': 566})\n",
      "(7, {'loss': 0.7317, 'grad_norm': 10.639792442321777, 'learning_rate': 3.939929328621909e-05, 'epoch': 2.1201413427561837, 'step': 600})\n",
      "(8, {'loss': 0.6477, 'grad_norm': 4.214351654052734, 'learning_rate': 3.7632508833922264e-05, 'epoch': 2.4734982332155475, 'step': 700})\n",
      "(9, {'loss': 0.6428, 'grad_norm': 9.293115615844727, 'learning_rate': 3.586572438162544e-05, 'epoch': 2.8268551236749118, 'step': 800})\n",
      "(10, {'eval_loss': 0.9460541009902954, 'eval_accuracy': 0.6160990712074303, 'eval_runtime': 6.6347, 'eval_samples_per_second': 146.05, 'eval_steps_per_second': 9.194, 'epoch': 3.0, 'step': 849})\n",
      "(11, {'train_runtime': 332.0925, 'train_samples_per_second': 136.107, 'train_steps_per_second': 8.522, 'total_flos': 961507694541024.0, 'train_loss': 0.8910484987939625, 'epoch': 3.0, 'step': 849})\n",
      "(12, {'eval_loss': 1.0028458833694458, 'eval_accuracy': 0.5923632610939112, 'eval_runtime': 7.0318, 'eval_samples_per_second': 137.803, 'eval_steps_per_second': 8.675, 'epoch': 3.0, 'step': 849})\n",
      "(13, {'eval_loss': 0.9936898946762085, 'eval_accuracy': 0.5964912280701754, 'eval_runtime': 7.692, 'eval_samples_per_second': 125.975, 'eval_steps_per_second': 7.93, 'epoch': 3.0, 'step': 849})\n"
     ]
    }
   ],
   "source": [
    "for step in enumerate(trainer.state.log_history):\n",
    "    print(f\"{step}\")"
   ]
  },
  {
   "cell_type": "code",
   "execution_count": null,
   "metadata": {},
   "outputs": [],
   "source": []
  }
 ],
 "metadata": {
  "kernelspec": {
   "display_name": ".venv",
   "language": "python",
   "name": "python3"
  },
  "language_info": {
   "codemirror_mode": {
    "name": "ipython",
    "version": 3
   },
   "file_extension": ".py",
   "mimetype": "text/x-python",
   "name": "python",
   "nbconvert_exporter": "python",
   "pygments_lexer": "ipython3",
   "version": "3.11.5"
  }
 },
 "nbformat": 4,
 "nbformat_minor": 4
}
